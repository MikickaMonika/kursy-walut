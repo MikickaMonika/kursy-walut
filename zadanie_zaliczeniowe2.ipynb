{
 "cells": [
  {
   "cell_type": "code",
   "execution_count": 9,
   "id": "76895af5",
   "metadata": {},
   "outputs": [
    {
     "name": "stdout",
     "output_type": "stream",
     "text": [
      "Jak chcesz sprawdzić walutę?\n",
      " Wpisz ścieżkę do pliku jeśli chcesz wczytać plik lub 'b' jeśli chcesz wpisać wartości ręcznie.b\n",
      "Podaj pierwszą walutę: USD\n",
      "Podaj drugą walutę: PLN\n",
      "Podaj liczbę do konwersji:3\n",
      "11.2122\n",
      "Błąd! Podana ścieżka nie prowadzi do pożądanego pliku.\n",
      "Czy chcesz kontynuować? Wpisz 'tak' lub 'nie'nie\n"
     ]
    }
   ],
   "source": [
    "o = open(\"kursyWalut.xml\", encoding='ISO-8859-1')  \n",
    "lines = o.readlines()\n",
    "d = {}\n",
    "for line in lines:\n",
    "    if \"kod_waluty\" in line:\n",
    "        kod = line.strip().replace(\"<kod_waluty>\", \"\").replace(\"</kod_waluty>\", \"\")\n",
    "    elif \"kurs_sredni\" in line:\n",
    "        kurs = line.strip().replace(\"<kurs_sredni>\", \"\").replace(\"</kurs_sredni>\", \"\")\n",
    "        d[kod] = kurs \n",
    "        \n",
    "z= input(\"Jak chcesz sprawdzić walutę?\\n Wpisz ścieżkę do pliku jeśli chcesz wczytać plik lub 'b' jeśli chcesz wpisać wartości ręcznie.\")\n",
    "while True:\n",
    "    try:\n",
    "    \n",
    "        if z ==\"b\":\n",
    "            x= input(\"Podaj pierwszą walutę: \")\n",
    "            y= input(\"Podaj drugą walutę: \")\n",
    "            c= float(input(\"Podaj liczbę do konwersji:\"))\n",
    "            x= x.upper()\n",
    "            y=y.upper()\n",
    "        for q in z:\n",
    "            if x in d: \n",
    "                j=d[x]\n",
    "                j = j.replace(\",\", \".\") \n",
    "                ab=float(j)*c \n",
    "                print(ab)\n",
    "            elif y in d:\n",
    "                j=d[y]\n",
    "                j = j.replace(\",\", \".\") \n",
    "                ab=float(j)*c\n",
    "                print(ab)\n",
    "            elif x != \"PLN\" and y != \"PLN\":\n",
    "                j=d[x]\n",
    "                j = j.replace(\",\", \".\") \n",
    "                ab=float(j)/d[y]*c\n",
    "                print(ab) \n",
    "        else:\n",
    "            g= open(z)\n",
    "            a = g.read()\n",
    "            lista=a.split()\n",
    "            slownik_pliku = []\n",
    "            co_trzecia = lista[::3]\n",
    "            wartosc = lista[1::3]\n",
    "            wartosc2 = lista[2::3]\n",
    "            polaczone = zip(co_trzecia, wartosc, wartosc2)\n",
    "            polaczone = list(polaczone)\n",
    "            n = -1\n",
    "            while n < len(polaczone)-1:\n",
    "                n+=1\n",
    "                waluty = polaczone[n][0:2]\n",
    "                liczba = polaczone[n][2]\n",
    "                liczba = float(liczba)\n",
    "                print(waluty, liczba)\n",
    "            for i in waluty:\n",
    "                if i in d:\n",
    "                    wal=d[i]\n",
    "                    wal=wal.replace(\",\", \".\")\n",
    "                    obliczenia=float(wal)*liczba #Pobiera wartości ostatnich elementów pętli. Nie wiem jak to zmienić.\n",
    "                    print(obliczenia)\n",
    "            g.close()\n",
    "    except FileNotFoundError:\n",
    "        print(\"Błąd! Podana ścieżka nie prowadzi do pożądanego pliku.\")                       \n",
    "    \n",
    "    k=input(\"Czy chcesz kontynuować? Wpisz 'tak' lub 'nie'\")\n",
    "    if k==\"nie\":\n",
    "        break\n",
    "    else:\n",
    "        z= input(\"Jak chcesz sprawdzić walutę?\\n Wpisz ścieżkę do pliku jeśli chcesz wczytać plik lub 'b' jeśli chcesz wpisać wartości ręcznie.\")"
   ]
  }
 ],
 "metadata": {
  "kernelspec": {
   "display_name": "Python 3 (ipykernel)",
   "language": "python",
   "name": "python3"
  },
  "language_info": {
   "codemirror_mode": {
    "name": "ipython",
    "version": 3
   },
   "file_extension": ".py",
   "mimetype": "text/x-python",
   "name": "python",
   "nbconvert_exporter": "python",
   "pygments_lexer": "ipython3",
   "version": "3.9.12"
  }
 },
 "nbformat": 4,
 "nbformat_minor": 5
}
